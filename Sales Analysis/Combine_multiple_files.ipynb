{
  "nbformat": 4,
  "nbformat_minor": 0,
  "metadata": {
    "colab": {
      "provenance": [],
      "authorship_tag": "ABX9TyP7vAUnzMuoMc9IZUc0po7w",
      "include_colab_link": true
    },
    "kernelspec": {
      "name": "python3",
      "display_name": "Python 3"
    },
    "language_info": {
      "name": "python"
    }
  },
  "cells": [
    {
      "cell_type": "markdown",
      "metadata": {
        "id": "view-in-github",
        "colab_type": "text"
      },
      "source": [
        "<a href=\"https://colab.research.google.com/github/Bank-Chaiyapong/Pandas-Practice/blob/main/Sales%20Analysis/Combine_multiple_files.ipynb\" target=\"_parent\"><img src=\"https://colab.research.google.com/assets/colab-badge.svg\" alt=\"Open In Colab\"/></a>"
      ]
    },
    {
      "cell_type": "markdown",
      "source": [
        "# Combine all csv\n",
        "\n"
      ],
      "metadata": {
        "id": "ClJ9M97ZuDKO"
      }
    },
    {
      "cell_type": "markdown",
      "source": [
        "# New Section"
      ],
      "metadata": {
        "id": "s4ydSYH0-TKH"
      }
    },
    {
      "cell_type": "code",
      "source": [
        "from google.colab import drive\n",
        "drive.mount('/content/drive')"
      ],
      "metadata": {
        "id": "HmIsrOUq-XqP"
      },
      "execution_count": null,
      "outputs": []
    },
    {
      "cell_type": "markdown",
      "source": [
        "## 1. Combine multiple csv files"
      ],
      "metadata": {
        "id": "D0vZ4if1uOTw"
      }
    },
    {
      "cell_type": "code",
      "execution_count": 5,
      "metadata": {
        "id": "JFtopufUt_LO"
      },
      "outputs": [],
      "source": [
        "import pandas as pd"
      ]
    },
    {
      "cell_type": "markdown",
      "source": [
        "## 2. List of file paths for the 12 CSV files"
      ],
      "metadata": {
        "id": "-alUtxpuwRxI"
      }
    },
    {
      "cell_type": "code",
      "source": [
        "file_paths = ['Sales_January_2019.csv',\n",
        "             'Sales_February_2019.csv',\n",
        "             'Sales_March_2019.csv',\n",
        "             'Sales_April_2019.csv',\n",
        "             'Sales_May_2019.csv',\n",
        "             'Sales_June_2019.csv',\n",
        "             'Sales_July_2019.csv',\n",
        "             'Sales_August_2019.csv',\n",
        "             'Sales_September_2019.csv',\n",
        "             'Sales_October_2019.csv',\n",
        "             'Sales_November_2019.csv',\n",
        "             'Sales_December_2019.csv']\n"
      ],
      "metadata": {
        "id": "2HwDXHURuZkI"
      },
      "execution_count": 6,
      "outputs": []
    },
    {
      "cell_type": "markdown",
      "source": [
        "## 3. Initialize an empty list to store DataFrames"
      ],
      "metadata": {
        "id": "8KaTIhaGwsWR"
      }
    },
    {
      "cell_type": "code",
      "source": [
        "dataframes = []"
      ],
      "metadata": {
        "id": "v1HPOsg-wpB5"
      },
      "execution_count": 7,
      "outputs": []
    },
    {
      "cell_type": "markdown",
      "source": [
        "## 4. Read each CSV file and append its DataFrame to the list"
      ],
      "metadata": {
        "id": "Ecocb8Tpwvn-"
      }
    },
    {
      "cell_type": "code",
      "source": [
        "for file_path in file_paths:\n",
        "    df = pd.read_csv(file_path)\n",
        "    dataframes.append(df)\n"
      ],
      "metadata": {
        "id": "Qnqw0ykKvnqE"
      },
      "execution_count": 9,
      "outputs": []
    },
    {
      "cell_type": "markdown",
      "source": [
        "## 5. Combine all DataFrames into a single DataFrame"
      ],
      "metadata": {
        "id": "yNpu--3txLpH"
      }
    },
    {
      "cell_type": "code",
      "source": [
        "combined_df = pd.concat(dataframes, ignore_index=True)"
      ],
      "metadata": {
        "id": "oCARbro0xM7M"
      },
      "execution_count": 20,
      "outputs": []
    },
    {
      "cell_type": "code",
      "source": [
        "combined_df.to_csv('Sales_alldata.csv', index=False)"
      ],
      "metadata": {
        "id": "_WL7Rjb_xNxy"
      },
      "execution_count": 22,
      "outputs": []
    },
    {
      "cell_type": "code",
      "source": [
        "Dff = pd.read_csv('Sales_alldata.csv')"
      ],
      "metadata": {
        "id": "j_1wga0D-1eF"
      },
      "execution_count": 23,
      "outputs": []
    },
    {
      "cell_type": "code",
      "source": [
        "print(Dff.head())"
      ],
      "metadata": {
        "id": "bUf30sip-3As",
        "outputId": "ebc8ad1a-84d2-4ab8-ce00-b5d66fb7f6d9",
        "colab": {
          "base_uri": "https://localhost:8080/"
        }
      },
      "execution_count": 24,
      "outputs": [
        {
          "output_type": "stream",
          "name": "stdout",
          "text": [
            "  Order ID                   Product Quantity Ordered Price Each  \\\n",
            "0   141234                    iPhone                1        700   \n",
            "1   141235  Lightning Charging Cable                1      14.95   \n",
            "2   141236          Wired Headphones                2      11.99   \n",
            "3   141237          27in FHD Monitor                1     149.99   \n",
            "4   141238          Wired Headphones                1      11.99   \n",
            "\n",
            "       Order Date                       Purchase Address  \n",
            "0  01/22/19 21:25        944 Walnut St, Boston, MA 02215  \n",
            "1  01/28/19 14:15       185 Maple St, Portland, OR 97035  \n",
            "2  01/17/19 13:33  538 Adams St, San Francisco, CA 94016  \n",
            "3  01/05/19 20:33     738 10th St, Los Angeles, CA 90001  \n",
            "4  01/25/19 11:59          387 10th St, Austin, TX 73301  \n"
          ]
        }
      ]
    },
    {
      "cell_type": "code",
      "source": [],
      "metadata": {
        "id": "TjWV6672AbpF"
      },
      "execution_count": null,
      "outputs": []
    }
  ]
}