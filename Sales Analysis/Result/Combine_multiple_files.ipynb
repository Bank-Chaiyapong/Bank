{
  "nbformat": 4,
  "nbformat_minor": 0,
  "metadata": {
    "colab": {
      "provenance": [],
      "authorship_tag": "ABX9TyOuqbnuEaIZvAmvhn3fJf9w",
      "include_colab_link": true
    },
    "kernelspec": {
      "name": "python3",
      "display_name": "Python 3"
    },
    "language_info": {
      "name": "python"
    }
  },
  "cells": [
    {
      "cell_type": "markdown",
      "metadata": {
        "id": "view-in-github",
        "colab_type": "text"
      },
      "source": [
        "<a href=\"https://colab.research.google.com/github/Bank-Chaiyapong/Bank/blob/main/Sales_Analysis.ipynb\" target=\"_parent\"><img src=\"https://colab.research.google.com/assets/colab-badge.svg\" alt=\"Open In Colab\"/></a>"
      ]
    },
    {
      "cell_type": "markdown",
      "source": [
        "# Combine all csv\n",
        "\n"
      ],
      "metadata": {
        "id": "ClJ9M97ZuDKO"
      }
    },
    {
      "cell_type": "markdown",
      "source": [
        "# New Section"
      ],
      "metadata": {
        "id": "s4ydSYH0-TKH"
      }
    },
    {
      "cell_type": "code",
      "source": [
        "from google.colab import drive\n",
        "drive.mount('/content/drive')"
      ],
      "metadata": {
        "id": "HmIsrOUq-XqP"
      },
      "execution_count": null,
      "outputs": []
    },
    {
      "cell_type": "markdown",
      "source": [
        "## 1. Combine multiple csv files"
      ],
      "metadata": {
        "id": "D0vZ4if1uOTw"
      }
    },
    {
      "cell_type": "code",
      "execution_count": null,
      "metadata": {
        "id": "JFtopufUt_LO"
      },
      "outputs": [],
      "source": [
        "import pandas as pd"
      ]
    },
    {
      "cell_type": "markdown",
      "source": [
        "## 2. List of file paths for the 12 CSV files"
      ],
      "metadata": {
        "id": "-alUtxpuwRxI"
      }
    },
    {
      "cell_type": "code",
      "source": [
        "file_paths = ['Sales_January_2019.csv',\n",
        "             'Sales_February_2019.csv',\n",
        "             'Sales_March_2019.csv',\n",
        "             'Sales_April_2019.csv',\n",
        "             'Sales_May_2019.csv',\n",
        "             'Sales_June_2019.csv',\n",
        "             'Sales_July_2019.csv',\n",
        "             'Sales_August_2019.csv',\n",
        "             'Sales_September_2019.csv',\n",
        "             'Sales_October_2019.csv',\n",
        "             'Sales_November_2019.csv',\n",
        "             'Sales_December_2019.csv']\n"
      ],
      "metadata": {
        "id": "2HwDXHURuZkI"
      },
      "execution_count": null,
      "outputs": []
    },
    {
      "cell_type": "markdown",
      "source": [
        "## 3. Initialize an empty list to store DataFrames"
      ],
      "metadata": {
        "id": "8KaTIhaGwsWR"
      }
    },
    {
      "cell_type": "code",
      "source": [
        "dataframes = []"
      ],
      "metadata": {
        "id": "v1HPOsg-wpB5"
      },
      "execution_count": null,
      "outputs": []
    },
    {
      "cell_type": "markdown",
      "source": [
        "## 4. Read each CSV file and append its DataFrame to the list"
      ],
      "metadata": {
        "id": "Ecocb8Tpwvn-"
      }
    },
    {
      "cell_type": "code",
      "source": [
        "for file_path in file_paths:\n",
        "    df = pd.read_csv(file_path)\n",
        "    dataframes.append(df)\n"
      ],
      "metadata": {
        "id": "Qnqw0ykKvnqE"
      },
      "execution_count": null,
      "outputs": []
    },
    {
      "cell_type": "markdown",
      "source": [
        "## 5. Combine all DataFrames into a single DataFrame"
      ],
      "metadata": {
        "id": "yNpu--3txLpH"
      }
    },
    {
      "cell_type": "code",
      "source": [
        "combined_df = pd.concat(dataframes, ignore_index=True)"
      ],
      "metadata": {
        "id": "oCARbro0xM7M"
      },
      "execution_count": null,
      "outputs": []
    },
    {
      "cell_type": "code",
      "source": [
        "combined_df.to_csv('Sales_alldata.csv', index=False)"
      ],
      "metadata": {
        "id": "_WL7Rjb_xNxy"
      },
      "execution_count": null,
      "outputs": []
    }
  ]
}